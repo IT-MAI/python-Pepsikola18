{
 "cells": [
  {
   "cell_type": "markdown",
   "id": "85755de8",
   "metadata": {},
   "source": [
    "# Самостоятельное задание #5\n",
    "\n",
    "\n",
    "### Задание 1\n",
    "\n",
    "Допишите функцию, которая принимает список, выбирает из него все элементы с четным индексом и возвращает их в виде списка."
   ]
  },
  {
   "cell_type": "code",
   "execution_count": 2,
   "id": "6ef6d9b3",
   "metadata": {},
   "outputs": [
    {
     "name": "stdout",
     "output_type": "stream",
     "text": [
      "[1, 3, 5, 7, 9]\n"
     ]
    }
   ],
   "source": [
    "def funcA(a):\n",
    "    for i in range(len(a)):\n",
    "        if i % 2 == 0:\n",
    "            x = a[i]\n",
    "            b.append(x)\n",
    "    return b\n",
    "a = [1,2,3,4,5,6,7,8,9]\n",
    "b = list()\n",
    "print(funcA(a))"
   ]
  },
  {
   "cell_type": "markdown",
   "id": "443974c9",
   "metadata": {},
   "source": [
    "### Задание 2\n",
    "\n",
    "Допишите функцию, которая принимает список, выбирает из него все элементы, которые больше предыдущего и возвращает их в виде списка.\n"
   ]
  },
  {
   "cell_type": "code",
   "execution_count": 3,
   "id": "3a8cf925",
   "metadata": {},
   "outputs": [
    {
     "name": "stdout",
     "output_type": "stream",
     "text": [
      "[3, 5, 7]\n"
     ]
    }
   ],
   "source": [
    "def funcA(a):\n",
    "    for i in range(len(a)):\n",
    "        if a[i] > a[i-1]:\n",
    "            x = a[i]\n",
    "            b.append(x)\n",
    "    return b\n",
    "a = [1,3,2,5,3,7]\n",
    "b = list()\n",
    "print(funcA(a))"
   ]
  },
  {
   "cell_type": "markdown",
   "id": "34524ede",
   "metadata": {},
   "source": [
    "### Задание 3\n",
    "\n",
    "Допишите функцию, которая принимает список, меняет местами наибольший и наименьший элементы и возвращает этот список."
   ]
  },
  {
   "cell_type": "code",
   "execution_count": 4,
   "id": "34d2beae",
   "metadata": {},
   "outputs": [
    {
     "name": "stdout",
     "output_type": "stream",
     "text": [
      "[5, 2, 3, 4, 1]\n"
     ]
    }
   ],
   "source": [
    "def funcA(a):\n",
    "    min1 = min(a)\n",
    "    max1 = max(a)\n",
    "    k = 0 # index min\n",
    "    m = 0 # index max\n",
    "    for i in range(len(a)):\n",
    "        if a[i] == min1:\n",
    "            k = i\n",
    "        elif a[i] == max1:\n",
    "            m = i\n",
    "    a[k] = max1\n",
    "    a[m] = min1\n",
    "    return a\n",
    "a = [1,2,3,4,5]\n",
    "print(funcA(a))"
   ]
  }
 ],
 "metadata": {
  "kernelspec": {
   "display_name": "Python 3",
   "language": "python",
   "name": "python3"
  },
  "language_info": {
   "codemirror_mode": {
    "name": "ipython",
    "version": 3
   },
   "file_extension": ".py",
   "mimetype": "text/x-python",
   "name": "python",
   "nbconvert_exporter": "python",
   "pygments_lexer": "ipython3",
   "version": "3.8.8"
  }
 },
 "nbformat": 4,
 "nbformat_minor": 5
}
